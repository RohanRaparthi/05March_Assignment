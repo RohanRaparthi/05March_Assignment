{
 "cells": [
  {
   "cell_type": "markdown",
   "id": "547387d1",
   "metadata": {},
   "source": [
    "# Answer1:\n",
    "To import Bokeh in Python, write the following code and run it:\n",
    "\n",
    "1.Installing Bokeh in Python using pip\n",
    "\n",
    "2.Importing Bokeh in Python\n",
    "\n",
    "3.Import sample data for bokeh\n",
    "\n",
    "4.Check Bokeh version in Python"
   ]
  },
  {
   "cell_type": "markdown",
   "id": "9ec3bad4",
   "metadata": {},
   "source": [
    "# Answer2:\n",
    "\n",
    "A glyph is a vectorized graphical shape or marker that is used to represent your data. A Few Categories of Glyphs: Marker: Shapes like circles, diamonds, squares and triangles. Effective for scatter and bubble charts. Line: Single, step and multi-line shapes.You can display images on Bokeh plots using the image() , image_rgba() , and image_url() glyph methods. You can use hovering tooltips with image glyphs to let the user see the values of each pixel.\n"
   ]
  },
  {
   "cell_type": "code",
   "execution_count": 2,
   "id": "c36fc904",
   "metadata": {},
   "outputs": [
    {
     "name": "stdout",
     "output_type": "stream",
     "text": [
      "Requirement already satisfied: bokeh in c:\\users\\rohan\\anaconda3\\lib\\site-packages (2.4.3)\n",
      "Requirement already satisfied: PyYAML>=3.10 in c:\\users\\rohan\\anaconda3\\lib\\site-packages (from bokeh) (6.0)\n",
      "Requirement already satisfied: numpy>=1.11.3 in c:\\users\\rohan\\anaconda3\\lib\\site-packages (from bokeh) (1.21.5)\n",
      "Requirement already satisfied: typing-extensions>=3.10.0 in c:\\users\\rohan\\anaconda3\\lib\\site-packages (from bokeh) (4.3.0)\n",
      "Requirement already satisfied: pillow>=7.1.0 in c:\\users\\rohan\\anaconda3\\lib\\site-packages (from bokeh) (9.2.0)\n",
      "Requirement already satisfied: tornado>=5.1 in c:\\users\\rohan\\anaconda3\\lib\\site-packages (from bokeh) (6.1)\n",
      "Requirement already satisfied: packaging>=16.8 in c:\\users\\rohan\\anaconda3\\lib\\site-packages (from bokeh) (21.3)\n",
      "Requirement already satisfied: Jinja2>=2.9 in c:\\users\\rohan\\anaconda3\\lib\\site-packages (from bokeh) (2.11.3)\n",
      "Requirement already satisfied: MarkupSafe>=0.23 in c:\\users\\rohan\\anaconda3\\lib\\site-packages (from Jinja2>=2.9->bokeh) (2.0.1)\n",
      "Requirement already satisfied: pyparsing!=3.0.5,>=2.0.2 in c:\\users\\rohan\\anaconda3\\lib\\site-packages (from packaging>=16.8->bokeh) (3.0.9)\n",
      "Note: you may need to restart the kernel to use updated packages.\n"
     ]
    }
   ],
   "source": [
    "pip install bokeh"
   ]
  },
  {
   "cell_type": "code",
   "execution_count": 7,
   "id": "8aedd2d8",
   "metadata": {},
   "outputs": [],
   "source": [
    "# Example\n",
    "from bokeh.plotting import figure, output_file, show\n",
    "\n",
    "# output to static HTML file\n",
    "output_file(\"line.html\")\n",
    "\n",
    "p = figure(width=400, height=400)\n",
    "\n",
    "# add a circle renderer with a size, color, and alpha\n",
    "p.circle([1, 2, 3, 4, 5], [6, 7, 2, 4, 5], size=20, color=\"navy\", alpha=0.5)\n",
    "\n",
    "# show the results\n",
    "show(p)"
   ]
  },
  {
   "cell_type": "markdown",
   "id": "a4dcfebd",
   "metadata": {},
   "source": [
    "# Answer3:\n",
    "\n",
    "Options for customizing the appearance of your plot include:\n",
    "\n",
    "1.setting labels for your axes\n",
    "2.styling the numbers displayed with your axes\n",
    "3.defining colors and other layout properties for the axes themselves\n",
    "\n",
    "we can customize the plot by adding title to the plot and labelling the xaxis and yaxis."
   ]
  },
  {
   "cell_type": "markdown",
   "id": "400f33c4",
   "metadata": {},
   "source": [
    "# Answer4:\n",
    "\n",
    "Bokeh server makes it easy to create interactive web applications that connect front-end UI events to running Python code. Bokeh creates high-level Python models, such as plots, ranges, axes, and glyphs, and then converts these objects to JSON to pass them to its client library, BokehJS."
   ]
  },
  {
   "cell_type": "markdown",
   "id": "3d3788fc",
   "metadata": {},
   "source": [
    "# Answer5:\n",
    "\n",
    "You can save the returned HTML text to a file using standard Python file operations. You can also provide your own template for the HTML output and pass in custom, or additional, template variables. For more details, see the file_html() documentation.\n",
    "\n",
    "Bokeh can also supply JSON data that BokehJS can use to render a standalone Bokeh document in a specified . The json_item() function accepts a Bokeh model (for example, a plot) and an optional ID of the target.\n",
    "\n",
    "You can also have Bokeh return individual components of a standalone document to embed them one by one with the components() function. This function returns a that contains the data for your plot and provides a target to display the plot view. You can use these elements in HTML documents however you like.\n",
    "\n",
    "You can also embed standalone documents with the autoload_static() function. This function provides a tag that replaces itself with a Bokeh plot. This script also checks for BokehJS and loads it if necessary. This function lets you embed a plot with nothing but this  tag."
   ]
  },
  {
   "cell_type": "code",
   "execution_count": null,
   "id": "217ca75c",
   "metadata": {},
   "outputs": [],
   "source": []
  }
 ],
 "metadata": {
  "kernelspec": {
   "display_name": "Python 3 (ipykernel)",
   "language": "python",
   "name": "python3"
  },
  "language_info": {
   "codemirror_mode": {
    "name": "ipython",
    "version": 3
   },
   "file_extension": ".py",
   "mimetype": "text/x-python",
   "name": "python",
   "nbconvert_exporter": "python",
   "pygments_lexer": "ipython3",
   "version": "3.9.13"
  }
 },
 "nbformat": 4,
 "nbformat_minor": 5
}
